{
  "nbformat": 4,
  "nbformat_minor": 0,
  "metadata": {
    "colab": {
      "provenance": [],
      "collapsed_sections": [],
      "toc_visible": true
    },
    "kernelspec": {
      "name": "python3",
      "display_name": "Python 3"
    },
    "language_info": {
      "name": "python"
    }
  },
  "cells": [
    {
      "cell_type": "markdown",
      "source": [
        "# Import Essential Libraries "
      ],
      "metadata": {
        "id": "C6smxmSDMHre"
      }
    },
    {
      "cell_type": "code",
      "source": [
        "pip install keras-tuner --upgrade"
      ],
      "metadata": {
        "id": "X2yzZBZB2_VD"
      },
      "execution_count": null,
      "outputs": []
    },
    {
      "cell_type": "code",
      "source": [
        "# Import Liraries\n",
        "import numpy as np\n",
        "import pandas as pd\n",
        "import tensorflow as tf\n",
        "import keras_tuner as kt\n",
        "from pandas import read_csv\n",
        "from tensorflow.keras.models import Sequential\n",
        "from tensorflow.keras.layers import Dense\n",
        "from sklearn.model_selection import train_test_split\n",
        "from sklearn.preprocessing import StandardScaler\n",
        "from tensorflow import keras\n",
        "from tensorflow.keras import layers\n",
        "from keras.models import Sequential\n",
        "from keras.layers import Dense, Activation, Flatten"
      ],
      "metadata": {
        "id": "Xnkuw3N4852J"
      },
      "execution_count": 48,
      "outputs": []
    },
    {
      "cell_type": "markdown",
      "source": [
        "# Dataset Loading "
      ],
      "metadata": {
        "id": "jNcEkIFdMUKm"
      }
    },
    {
      "cell_type": "code",
      "source": [
        "# Load Data \n",
        "url = 'https://archive.ics.uci.edu/ml/machine-learning-databases/abalone/abalone.data'\n",
        "df = read_csv(url, header=None)\n",
        "dataset = df.values"
      ],
      "metadata": {
        "id": "guTJ_T_P853P"
      },
      "execution_count": 49,
      "outputs": []
    },
    {
      "cell_type": "code",
      "source": [
        "# Defining Column names \n",
        "df.columns = [\"Sex\", \"Length\", \"Diameter\", \"Height\", \"Whole.weight\", \"Shucked.weight\", \"Viscera.weight\", \"Shell.weight\", \"Rings\"]"
      ],
      "metadata": {
        "id": "A3KMO0MMAplp"
      },
      "execution_count": 50,
      "outputs": []
    },
    {
      "cell_type": "markdown",
      "source": [
        "# Data Preprocessing "
      ],
      "metadata": {
        "id": "CWHLKio7Mh4z"
      }
    },
    {
      "cell_type": "code",
      "source": [
        "# Reference: https://www.geeksforgeeks.org/ml-one-hot-encoding-of-datasets-in-python/#:~:text=One%20Hot%20Encoding%20is%20used,takes%20only%20numerical%20categorical%20values. \n",
        "# Input Column Encoding: Encoding the Sex column by One Hot Encoding using the get_dummies() function of the pandas \n",
        "df_dummies = pd.get_dummies(df['Sex'], drop_first = True, prefix=\"Sex_\")\n",
        "\n",
        "# Inserting dummy columns\n",
        "for column in df_dummies.columns:\n",
        "    df[column] = df_dummies[column]\n",
        "    \n",
        "# Dropping the original column\n",
        "df = df.drop(columns = ['Sex'])"
      ],
      "metadata": {
        "id": "XYyeqt0TLZcA"
      },
      "execution_count": 51,
      "outputs": []
    },
    {
      "cell_type": "code",
      "source": [
        "# Output Column Encoding: Rings Column Encoding\n",
        "\n",
        "def rings_label(x):\n",
        "    if x<=10:\n",
        "        return 'Young'\n",
        "    if x<=20:\n",
        "        return 'Middle-Aged'\n",
        "    if x<=30:\n",
        "        return 'Old'\n",
        "    \n",
        "df['Rings'] = df['Rings'].apply(rings_label)"
      ],
      "metadata": {
        "id": "nBGAWK77BfJt"
      },
      "execution_count": 52,
      "outputs": []
    },
    {
      "cell_type": "code",
      "source": [
        "df['Rings']"
      ],
      "metadata": {
        "colab": {
          "base_uri": "https://localhost:8080/"
        },
        "id": "yoRr5BOOOL4j",
        "outputId": "ca05d478-99eb-4265-db72-e896bb55268b"
      },
      "execution_count": 53,
      "outputs": [
        {
          "output_type": "execute_result",
          "data": {
            "text/plain": [
              "0       Middle-Aged\n",
              "1             Young\n",
              "2             Young\n",
              "3             Young\n",
              "4             Young\n",
              "           ...     \n",
              "4172    Middle-Aged\n",
              "4173          Young\n",
              "4174          Young\n",
              "4175          Young\n",
              "4176    Middle-Aged\n",
              "Name: Rings, Length: 4177, dtype: object"
            ]
          },
          "metadata": {},
          "execution_count": 53
        }
      ]
    },
    {
      "cell_type": "code",
      "source": [
        "# Applying One-Hot Encoding to the Ring Column again to handle the imbalanced data\n",
        "df_dummies = pd.get_dummies(df['Rings'])\n",
        "\n",
        "# Inserting dummy columns\n",
        "for column in df_dummies.columns:\n",
        "    df[column] = df_dummies[column]\n",
        "    \n",
        "# Dropping the original column\n",
        "df = df.drop(columns = ['Rings'])"
      ],
      "metadata": {
        "id": "zN2M8UOKOL3b"
      },
      "execution_count": 54,
      "outputs": []
    },
    {
      "cell_type": "markdown",
      "source": [
        "# Train-Validation-Test Split"
      ],
      "metadata": {
        "id": "Q7y3FNM2QJw3"
      }
    },
    {
      "cell_type": "code",
      "source": [
        "# defining the input and output columns to separate the dataset \n",
        "\n",
        "input_columns = df.columns.tolist()\n",
        "input_columns.remove('Young')\n",
        "input_columns.remove('Middle-Aged')\n",
        "input_columns.remove('Old')\n",
        "\n",
        "output_columns = ['Young', 'Middle-Aged', 'Old']"
      ],
      "metadata": {
        "id": "enGEHCj6Lo-x"
      },
      "execution_count": 55,
      "outputs": []
    },
    {
      "cell_type": "code",
      "source": [
        "# Reference: https://scikit-learn.org/stable/modules/generated/sklearn.model_selection.train_test_split.html \n",
        "# Splitting into train, val and test set\n",
        "train_df, val_test_df = train_test_split(df, test_size = 0.5)\n",
        "val_df, test_df = train_test_split(val_test_df, test_size = 0.5)\n",
        "\n",
        "# Splitting into X as input and y as output\n",
        "Xtrain, ytrain = np.array(train_df[input_columns]), np.array(train_df[output_columns])\n",
        "Xval, yval = np.array(val_df[input_columns]), np.array(val_df[output_columns])\n",
        "Xtest, ytest = np.array(test_df[input_columns]), np.array(test_df[output_columns])"
      ],
      "metadata": {
        "id": "D6j-C1WTQ2x4"
      },
      "execution_count": 56,
      "outputs": []
    },
    {
      "cell_type": "markdown",
      "source": [
        "# Standardization"
      ],
      "metadata": {
        "id": "xXqPn2q-R8xC"
      }
    },
    {
      "cell_type": "code",
      "source": [
        "# Reference: https://scikit-learn.org/stable/modules/generated/sklearn.preprocessing.StandardScaler.html \n",
        "ss = StandardScaler()\n",
        "Xtrain = ss.fit_transform(Xtrain)\n",
        "Xval = ss.transform(Xval)\n",
        "Xtest = ss.transform(Xtest)"
      ],
      "metadata": {
        "id": "aIdxN3i5Q22r"
      },
      "execution_count": 57,
      "outputs": []
    },
    {
      "cell_type": "markdown",
      "source": [
        "# DNN Model"
      ],
      "metadata": {
        "id": "gp6zQc4MSH62"
      }
    },
    {
      "cell_type": "code",
      "source": [
        "# Reference: https://keras.io/guides/sequential_model/ \n",
        "# Sequential Model\n",
        "model = keras.models.Sequential([\n",
        "keras.layers.Flatten(input_shape=Xtrain[0].shape),\n",
        "keras.layers.Dense(100, activation=\"relu\", kernel_initializer=\"HeNormal\"),\n",
        "keras.layers.Dense(1, activation=\"elu\"),\n",
        "])\n",
        "model.summary()"
      ],
      "metadata": {
        "id": "Zvdyhc47Wt8T",
        "colab": {
          "base_uri": "https://localhost:8080/"
        },
        "outputId": "fcde84b4-16de-4d0e-f96b-2e154259549c"
      },
      "execution_count": 58,
      "outputs": [
        {
          "output_type": "stream",
          "name": "stdout",
          "text": [
            "Model: \"sequential\"\n",
            "_________________________________________________________________\n",
            " Layer (type)                Output Shape              Param #   \n",
            "=================================================================\n",
            " flatten (Flatten)           (None, 9)                 0         \n",
            "                                                                 \n",
            " dense (Dense)               (None, 100)               1000      \n",
            "                                                                 \n",
            " dense_1 (Dense)             (None, 1)                 101       \n",
            "                                                                 \n",
            "=================================================================\n",
            "Total params: 1,101\n",
            "Trainable params: 1,101\n",
            "Non-trainable params: 0\n",
            "_________________________________________________________________\n"
          ]
        }
      ]
    },
    {
      "cell_type": "code",
      "source": [
        "# Model Compiling \n",
        "model.compile(optimizer = 'adam', loss = keras.losses.MeanSquaredError(), metrics = ['mae'])"
      ],
      "metadata": {
        "id": "4SryjwZtVW2-"
      },
      "execution_count": 59,
      "outputs": []
    },
    {
      "cell_type": "code",
      "source": [
        "# Model Fitting\n",
        "history = model.fit(Xtrain, ytrain, epochs=100, batch_size=30, validation_data=(Xval, yval))"
      ],
      "metadata": {
        "id": "D8IHANYQVW6F",
        "colab": {
          "base_uri": "https://localhost:8080/"
        },
        "outputId": "bd8e54f3-d174-45ca-9826-6fbd056b9439"
      },
      "execution_count": 60,
      "outputs": [
        {
          "output_type": "stream",
          "name": "stdout",
          "text": [
            "Epoch 1/100\n",
            "70/70 [==============================] - 1s 7ms/step - loss: 0.4180 - mae: 0.5174 - val_loss: 0.2947 - val_mae: 0.4709\n",
            "Epoch 2/100\n",
            "70/70 [==============================] - 0s 4ms/step - loss: 0.2734 - mae: 0.4572 - val_loss: 0.2544 - val_mae: 0.4618\n",
            "Epoch 3/100\n",
            "70/70 [==============================] - 0s 3ms/step - loss: 0.2447 - mae: 0.4454 - val_loss: 0.2415 - val_mae: 0.4588\n",
            "Epoch 4/100\n",
            "70/70 [==============================] - 0s 4ms/step - loss: 0.2354 - mae: 0.4446 - val_loss: 0.2345 - val_mae: 0.4526\n",
            "Epoch 5/100\n",
            "70/70 [==============================] - 0s 3ms/step - loss: 0.2314 - mae: 0.4443 - val_loss: 0.2309 - val_mae: 0.4440\n",
            "Epoch 6/100\n",
            "70/70 [==============================] - 0s 5ms/step - loss: 0.2291 - mae: 0.4443 - val_loss: 0.2295 - val_mae: 0.4426\n",
            "Epoch 7/100\n",
            "70/70 [==============================] - 0s 5ms/step - loss: 0.2277 - mae: 0.4444 - val_loss: 0.2279 - val_mae: 0.4445\n",
            "Epoch 8/100\n",
            "70/70 [==============================] - 0s 7ms/step - loss: 0.2267 - mae: 0.4443 - val_loss: 0.2273 - val_mae: 0.4460\n",
            "Epoch 9/100\n",
            "70/70 [==============================] - 0s 6ms/step - loss: 0.2261 - mae: 0.4443 - val_loss: 0.2267 - val_mae: 0.4420\n",
            "Epoch 10/100\n",
            "70/70 [==============================] - 0s 7ms/step - loss: 0.2256 - mae: 0.4442 - val_loss: 0.2264 - val_mae: 0.4403\n",
            "Epoch 11/100\n",
            "70/70 [==============================] - 0s 6ms/step - loss: 0.2251 - mae: 0.4442 - val_loss: 0.2258 - val_mae: 0.4468\n",
            "Epoch 12/100\n",
            "70/70 [==============================] - 0s 6ms/step - loss: 0.2248 - mae: 0.4443 - val_loss: 0.2255 - val_mae: 0.4467\n",
            "Epoch 13/100\n",
            "70/70 [==============================] - 0s 5ms/step - loss: 0.2245 - mae: 0.4444 - val_loss: 0.2253 - val_mae: 0.4457\n",
            "Epoch 14/100\n",
            "70/70 [==============================] - 0s 6ms/step - loss: 0.2244 - mae: 0.4444 - val_loss: 0.2252 - val_mae: 0.4466\n",
            "Epoch 15/100\n",
            "70/70 [==============================] - 0s 5ms/step - loss: 0.2244 - mae: 0.4444 - val_loss: 0.2249 - val_mae: 0.4449\n",
            "Epoch 16/100\n",
            "70/70 [==============================] - 0s 7ms/step - loss: 0.2241 - mae: 0.4444 - val_loss: 0.2252 - val_mae: 0.4397\n",
            "Epoch 17/100\n",
            "70/70 [==============================] - 1s 7ms/step - loss: 0.2240 - mae: 0.4443 - val_loss: 0.2251 - val_mae: 0.4509\n",
            "Epoch 18/100\n",
            "70/70 [==============================] - 1s 7ms/step - loss: 0.2240 - mae: 0.4443 - val_loss: 0.2249 - val_mae: 0.4493\n",
            "Epoch 19/100\n",
            "70/70 [==============================] - 1s 9ms/step - loss: 0.2241 - mae: 0.4446 - val_loss: 0.2244 - val_mae: 0.4412\n",
            "Epoch 20/100\n",
            "70/70 [==============================] - 0s 6ms/step - loss: 0.2238 - mae: 0.4444 - val_loss: 0.2245 - val_mae: 0.4430\n",
            "Epoch 21/100\n",
            "70/70 [==============================] - 0s 6ms/step - loss: 0.2237 - mae: 0.4445 - val_loss: 0.2248 - val_mae: 0.4412\n",
            "Epoch 22/100\n",
            "70/70 [==============================] - 0s 7ms/step - loss: 0.2238 - mae: 0.4445 - val_loss: 0.2241 - val_mae: 0.4462\n",
            "Epoch 23/100\n",
            "70/70 [==============================] - 1s 8ms/step - loss: 0.2235 - mae: 0.4442 - val_loss: 0.2240 - val_mae: 0.4449\n",
            "Epoch 24/100\n",
            "70/70 [==============================] - 1s 8ms/step - loss: 0.2234 - mae: 0.4445 - val_loss: 0.2239 - val_mae: 0.4436\n",
            "Epoch 25/100\n",
            "70/70 [==============================] - 1s 7ms/step - loss: 0.2234 - mae: 0.4444 - val_loss: 0.2239 - val_mae: 0.4470\n",
            "Epoch 26/100\n",
            "70/70 [==============================] - 0s 6ms/step - loss: 0.2233 - mae: 0.4445 - val_loss: 0.2238 - val_mae: 0.4453\n",
            "Epoch 27/100\n",
            "70/70 [==============================] - 1s 8ms/step - loss: 0.2233 - mae: 0.4444 - val_loss: 0.2238 - val_mae: 0.4458\n",
            "Epoch 28/100\n",
            "70/70 [==============================] - 1s 13ms/step - loss: 0.2232 - mae: 0.4444 - val_loss: 0.2237 - val_mae: 0.4448\n",
            "Epoch 29/100\n",
            "70/70 [==============================] - 1s 10ms/step - loss: 0.2233 - mae: 0.4445 - val_loss: 0.2236 - val_mae: 0.4450\n",
            "Epoch 30/100\n",
            "70/70 [==============================] - 1s 9ms/step - loss: 0.2232 - mae: 0.4444 - val_loss: 0.2237 - val_mae: 0.4478\n",
            "Epoch 31/100\n",
            "70/70 [==============================] - 1s 8ms/step - loss: 0.2232 - mae: 0.4445 - val_loss: 0.2241 - val_mae: 0.4490\n",
            "Epoch 32/100\n",
            "70/70 [==============================] - 1s 11ms/step - loss: 0.2232 - mae: 0.4443 - val_loss: 0.2242 - val_mae: 0.4506\n",
            "Epoch 33/100\n",
            "70/70 [==============================] - 1s 12ms/step - loss: 0.2231 - mae: 0.4446 - val_loss: 0.2235 - val_mae: 0.4434\n",
            "Epoch 34/100\n",
            "70/70 [==============================] - 1s 13ms/step - loss: 0.2230 - mae: 0.4444 - val_loss: 0.2234 - val_mae: 0.4430\n",
            "Epoch 35/100\n",
            "70/70 [==============================] - 1s 12ms/step - loss: 0.2230 - mae: 0.4443 - val_loss: 0.2234 - val_mae: 0.4447\n",
            "Epoch 36/100\n",
            "70/70 [==============================] - 1s 15ms/step - loss: 0.2230 - mae: 0.4446 - val_loss: 0.2234 - val_mae: 0.4450\n",
            "Epoch 37/100\n",
            "70/70 [==============================] - 1s 14ms/step - loss: 0.2230 - mae: 0.4445 - val_loss: 0.2234 - val_mae: 0.4421\n",
            "Epoch 38/100\n",
            "70/70 [==============================] - 1s 10ms/step - loss: 0.2229 - mae: 0.4442 - val_loss: 0.2233 - val_mae: 0.4468\n",
            "Epoch 39/100\n",
            "70/70 [==============================] - 1s 10ms/step - loss: 0.2229 - mae: 0.4444 - val_loss: 0.2235 - val_mae: 0.4478\n",
            "Epoch 40/100\n",
            "70/70 [==============================] - 1s 10ms/step - loss: 0.2229 - mae: 0.4444 - val_loss: 0.2235 - val_mae: 0.4487\n",
            "Epoch 41/100\n",
            "70/70 [==============================] - 1s 11ms/step - loss: 0.2229 - mae: 0.4445 - val_loss: 0.2232 - val_mae: 0.4460\n",
            "Epoch 42/100\n",
            "70/70 [==============================] - 1s 12ms/step - loss: 0.2228 - mae: 0.4445 - val_loss: 0.2233 - val_mae: 0.4420\n",
            "Epoch 43/100\n",
            "70/70 [==============================] - 1s 10ms/step - loss: 0.2228 - mae: 0.4443 - val_loss: 0.2232 - val_mae: 0.4454\n",
            "Epoch 44/100\n",
            "70/70 [==============================] - 1s 8ms/step - loss: 0.2228 - mae: 0.4446 - val_loss: 0.2232 - val_mae: 0.4420\n",
            "Epoch 45/100\n",
            "70/70 [==============================] - 0s 6ms/step - loss: 0.2229 - mae: 0.4444 - val_loss: 0.2234 - val_mae: 0.4465\n",
            "Epoch 46/100\n",
            "70/70 [==============================] - 1s 8ms/step - loss: 0.2229 - mae: 0.4444 - val_loss: 0.2233 - val_mae: 0.4417\n",
            "Epoch 47/100\n",
            "70/70 [==============================] - 1s 7ms/step - loss: 0.2227 - mae: 0.4445 - val_loss: 0.2231 - val_mae: 0.4429\n",
            "Epoch 48/100\n",
            "70/70 [==============================] - 0s 7ms/step - loss: 0.2228 - mae: 0.4443 - val_loss: 0.2231 - val_mae: 0.4462\n",
            "Epoch 49/100\n",
            "70/70 [==============================] - 1s 9ms/step - loss: 0.2227 - mae: 0.4445 - val_loss: 0.2231 - val_mae: 0.4422\n",
            "Epoch 50/100\n",
            "70/70 [==============================] - 1s 8ms/step - loss: 0.2227 - mae: 0.4445 - val_loss: 0.2230 - val_mae: 0.4427\n",
            "Epoch 51/100\n",
            "70/70 [==============================] - 1s 7ms/step - loss: 0.2228 - mae: 0.4444 - val_loss: 0.2230 - val_mae: 0.4444\n",
            "Epoch 52/100\n",
            "70/70 [==============================] - 1s 8ms/step - loss: 0.2227 - mae: 0.4444 - val_loss: 0.2230 - val_mae: 0.4428\n",
            "Epoch 53/100\n",
            "70/70 [==============================] - 1s 11ms/step - loss: 0.2226 - mae: 0.4444 - val_loss: 0.2231 - val_mae: 0.4422\n",
            "Epoch 54/100\n",
            "70/70 [==============================] - 1s 7ms/step - loss: 0.2227 - mae: 0.4445 - val_loss: 0.2230 - val_mae: 0.4434\n",
            "Epoch 55/100\n",
            "70/70 [==============================] - 0s 7ms/step - loss: 0.2226 - mae: 0.4444 - val_loss: 0.2230 - val_mae: 0.4425\n",
            "Epoch 56/100\n",
            "70/70 [==============================] - 0s 6ms/step - loss: 0.2226 - mae: 0.4444 - val_loss: 0.2229 - val_mae: 0.4446\n",
            "Epoch 57/100\n",
            "70/70 [==============================] - 1s 11ms/step - loss: 0.2227 - mae: 0.4445 - val_loss: 0.2231 - val_mae: 0.4421\n",
            "Epoch 58/100\n",
            "70/70 [==============================] - 0s 4ms/step - loss: 0.2226 - mae: 0.4444 - val_loss: 0.2231 - val_mae: 0.4427\n",
            "Epoch 59/100\n",
            "70/70 [==============================] - 0s 3ms/step - loss: 0.2226 - mae: 0.4445 - val_loss: 0.2229 - val_mae: 0.4440\n",
            "Epoch 60/100\n",
            "70/70 [==============================] - 0s 3ms/step - loss: 0.2226 - mae: 0.4443 - val_loss: 0.2229 - val_mae: 0.4472\n",
            "Epoch 61/100\n",
            "70/70 [==============================] - 0s 3ms/step - loss: 0.2226 - mae: 0.4445 - val_loss: 0.2229 - val_mae: 0.4436\n",
            "Epoch 62/100\n",
            "70/70 [==============================] - 0s 3ms/step - loss: 0.2226 - mae: 0.4445 - val_loss: 0.2229 - val_mae: 0.4421\n",
            "Epoch 63/100\n",
            "70/70 [==============================] - 0s 3ms/step - loss: 0.2226 - mae: 0.4444 - val_loss: 0.2229 - val_mae: 0.4432\n",
            "Epoch 64/100\n",
            "70/70 [==============================] - 0s 3ms/step - loss: 0.2227 - mae: 0.4443 - val_loss: 0.2236 - val_mae: 0.4501\n",
            "Epoch 65/100\n",
            "70/70 [==============================] - 0s 3ms/step - loss: 0.2226 - mae: 0.4445 - val_loss: 0.2228 - val_mae: 0.4448\n",
            "Epoch 66/100\n",
            "70/70 [==============================] - 0s 3ms/step - loss: 0.2226 - mae: 0.4445 - val_loss: 0.2234 - val_mae: 0.4374\n",
            "Epoch 67/100\n",
            "70/70 [==============================] - 0s 3ms/step - loss: 0.2226 - mae: 0.4445 - val_loss: 0.2230 - val_mae: 0.4416\n",
            "Epoch 68/100\n",
            "70/70 [==============================] - 0s 3ms/step - loss: 0.2225 - mae: 0.4444 - val_loss: 0.2228 - val_mae: 0.4438\n",
            "Epoch 69/100\n",
            "70/70 [==============================] - 0s 3ms/step - loss: 0.2225 - mae: 0.4444 - val_loss: 0.2230 - val_mae: 0.4484\n",
            "Epoch 70/100\n",
            "70/70 [==============================] - 0s 3ms/step - loss: 0.2226 - mae: 0.4445 - val_loss: 0.2230 - val_mae: 0.4426\n",
            "Epoch 71/100\n",
            "70/70 [==============================] - 0s 3ms/step - loss: 0.2227 - mae: 0.4445 - val_loss: 0.2228 - val_mae: 0.4460\n",
            "Epoch 72/100\n",
            "70/70 [==============================] - 0s 3ms/step - loss: 0.2225 - mae: 0.4443 - val_loss: 0.2229 - val_mae: 0.4466\n",
            "Epoch 73/100\n",
            "70/70 [==============================] - 0s 3ms/step - loss: 0.2225 - mae: 0.4445 - val_loss: 0.2228 - val_mae: 0.4445\n",
            "Epoch 74/100\n",
            "70/70 [==============================] - 0s 3ms/step - loss: 0.2225 - mae: 0.4445 - val_loss: 0.2227 - val_mae: 0.4444\n",
            "Epoch 75/100\n",
            "70/70 [==============================] - 0s 3ms/step - loss: 0.2225 - mae: 0.4444 - val_loss: 0.2228 - val_mae: 0.4429\n",
            "Epoch 76/100\n",
            "70/70 [==============================] - 0s 3ms/step - loss: 0.2225 - mae: 0.4445 - val_loss: 0.2228 - val_mae: 0.4423\n",
            "Epoch 77/100\n",
            "70/70 [==============================] - 0s 3ms/step - loss: 0.2225 - mae: 0.4444 - val_loss: 0.2227 - val_mae: 0.4432\n",
            "Epoch 78/100\n",
            "70/70 [==============================] - 0s 3ms/step - loss: 0.2225 - mae: 0.4443 - val_loss: 0.2227 - val_mae: 0.4458\n",
            "Epoch 79/100\n",
            "70/70 [==============================] - 0s 3ms/step - loss: 0.2226 - mae: 0.4445 - val_loss: 0.2228 - val_mae: 0.4438\n",
            "Epoch 80/100\n",
            "70/70 [==============================] - 0s 3ms/step - loss: 0.2225 - mae: 0.4445 - val_loss: 0.2229 - val_mae: 0.4416\n",
            "Epoch 81/100\n",
            "70/70 [==============================] - 0s 4ms/step - loss: 0.2226 - mae: 0.4443 - val_loss: 0.2227 - val_mae: 0.4453\n",
            "Epoch 82/100\n",
            "70/70 [==============================] - 0s 3ms/step - loss: 0.2225 - mae: 0.4446 - val_loss: 0.2227 - val_mae: 0.4463\n",
            "Epoch 83/100\n",
            "70/70 [==============================] - 0s 3ms/step - loss: 0.2225 - mae: 0.4445 - val_loss: 0.2227 - val_mae: 0.4445\n",
            "Epoch 84/100\n",
            "70/70 [==============================] - 0s 3ms/step - loss: 0.2225 - mae: 0.4444 - val_loss: 0.2227 - val_mae: 0.4431\n",
            "Epoch 85/100\n",
            "70/70 [==============================] - 0s 3ms/step - loss: 0.2226 - mae: 0.4445 - val_loss: 0.2227 - val_mae: 0.4469\n",
            "Epoch 86/100\n",
            "70/70 [==============================] - 0s 3ms/step - loss: 0.2224 - mae: 0.4444 - val_loss: 0.2227 - val_mae: 0.4430\n",
            "Epoch 87/100\n",
            "70/70 [==============================] - 0s 4ms/step - loss: 0.2225 - mae: 0.4445 - val_loss: 0.2228 - val_mae: 0.4411\n",
            "Epoch 88/100\n",
            "70/70 [==============================] - 0s 4ms/step - loss: 0.2224 - mae: 0.4444 - val_loss: 0.2227 - val_mae: 0.4459\n",
            "Epoch 89/100\n",
            "70/70 [==============================] - 0s 4ms/step - loss: 0.2224 - mae: 0.4444 - val_loss: 0.2227 - val_mae: 0.4433\n",
            "Epoch 90/100\n",
            "70/70 [==============================] - 0s 3ms/step - loss: 0.2224 - mae: 0.4445 - val_loss: 0.2228 - val_mae: 0.4404\n",
            "Epoch 91/100\n",
            "70/70 [==============================] - 0s 3ms/step - loss: 0.2225 - mae: 0.4444 - val_loss: 0.2227 - val_mae: 0.4422\n",
            "Epoch 92/100\n",
            "70/70 [==============================] - 0s 3ms/step - loss: 0.2224 - mae: 0.4445 - val_loss: 0.2229 - val_mae: 0.4415\n",
            "Epoch 93/100\n",
            "70/70 [==============================] - 0s 5ms/step - loss: 0.2225 - mae: 0.4444 - val_loss: 0.2226 - val_mae: 0.4455\n",
            "Epoch 94/100\n",
            "70/70 [==============================] - 0s 3ms/step - loss: 0.2224 - mae: 0.4444 - val_loss: 0.2226 - val_mae: 0.4460\n",
            "Epoch 95/100\n",
            "70/70 [==============================] - 0s 4ms/step - loss: 0.2224 - mae: 0.4445 - val_loss: 0.2227 - val_mae: 0.4427\n",
            "Epoch 96/100\n",
            "70/70 [==============================] - 0s 4ms/step - loss: 0.2224 - mae: 0.4444 - val_loss: 0.2226 - val_mae: 0.4448\n",
            "Epoch 97/100\n",
            "70/70 [==============================] - 0s 4ms/step - loss: 0.2224 - mae: 0.4445 - val_loss: 0.2226 - val_mae: 0.4435\n",
            "Epoch 98/100\n",
            "70/70 [==============================] - 0s 4ms/step - loss: 0.2224 - mae: 0.4444 - val_loss: 0.2226 - val_mae: 0.4452\n",
            "Epoch 99/100\n",
            "70/70 [==============================] - 0s 3ms/step - loss: 0.2225 - mae: 0.4445 - val_loss: 0.2227 - val_mae: 0.4414\n",
            "Epoch 100/100\n",
            "70/70 [==============================] - 0s 4ms/step - loss: 0.2225 - mae: 0.4444 - val_loss: 0.2227 - val_mae: 0.4478\n"
          ]
        }
      ]
    },
    {
      "cell_type": "code",
      "source": [
        "# Evaluating The Model\n",
        "score = model.evaluate(Xtest, ytest, verbose=0)\n",
        "print('Test loss:', score[0])\n",
        "print('Test accuracy:', score[1])"
      ],
      "metadata": {
        "colab": {
          "base_uri": "https://localhost:8080/"
        },
        "id": "TD7084NNaJsG",
        "outputId": "fdc6333b-3744-42fa-e9af-f0e0629931af"
      },
      "execution_count": 61,
      "outputs": [
        {
          "output_type": "stream",
          "name": "stdout",
          "text": [
            "Test loss: 0.2237059324979782\n",
            "Test accuracy: 0.4483949840068817\n"
          ]
        }
      ]
    },
    {
      "cell_type": "code",
      "source": [
        "# Predicting Output \n",
        "y_pred = model.predict(Xtest)\n",
        "print(y_pred)"
      ],
      "metadata": {
        "colab": {
          "base_uri": "https://localhost:8080/"
        },
        "id": "aGpUoEpsaJuG",
        "outputId": "c7510936-9a46-41b1-caba-1c522ff02fa2"
      },
      "execution_count": 62,
      "outputs": [
        {
          "output_type": "stream",
          "name": "stdout",
          "text": [
            "33/33 [==============================] - 1s 3ms/step\n",
            "[[0.3402553 ]\n",
            " [0.35990584]\n",
            " [0.35272202]\n",
            " ...\n",
            " [0.30994126]\n",
            " [0.34018937]\n",
            " [0.34739238]]\n"
          ]
        }
      ]
    },
    {
      "cell_type": "markdown",
      "source": [
        "# Tune Up The DNN Model "
      ],
      "metadata": {
        "id": "WCRzE-sLEgG7"
      }
    },
    {
      "cell_type": "code",
      "source": [
        "# Reference: https://keras.io/guides/sequential_model/ \n",
        "# Sequential Model\n",
        "def model_builder(hp):\n",
        "  model = keras.models.Sequential([\n",
        "  keras.layers.Flatten(input_shape=Xtrain[0].shape),\n",
        "  keras.layers.Dense(100, activation=\"relu\", kernel_initializer=\"HeNormal\"),\n",
        "  keras.layers.Dense(1, activation=\"relu\"),\n",
        "])\n",
        "  model.compile(optimizer = 'adam', loss = keras.losses.MeanSquaredError(), metrics = ['mae'])\n",
        "  history = model.fit(Xtrain, ytrain, epochs=100, batch_size=30, validation_data=(Xval, yval))\n",
        "  return model"
      ],
      "metadata": {
        "id": "0SjKypoQnkVx"
      },
      "execution_count": 63,
      "outputs": []
    },
    {
      "cell_type": "code",
      "source": [
        "# Instantiate the tuner and perform hypertuning\n",
        "# Reference: https://keras.io/keras_tuner/ \n",
        "tuner = kt.Hyperband(model_builder,\n",
        "                     objective='val_mae',\n",
        "                     max_epochs=50,\n",
        "                     factor=3)"
      ],
      "metadata": {
        "id": "TO1Eb4mAeTno",
        "colab": {
          "base_uri": "https://localhost:8080/"
        },
        "outputId": "bb6be06a-9df6-475c-9081-a550e716810e"
      },
      "execution_count": 64,
      "outputs": [
        {
          "output_type": "stream",
          "name": "stdout",
          "text": [
            "Epoch 1/100\n",
            "70/70 [==============================] - 1s 5ms/step - loss: 0.2772 - mae: 0.4129 - val_loss: 0.2601 - val_mae: 0.4235\n",
            "Epoch 2/100\n",
            "70/70 [==============================] - 0s 3ms/step - loss: 0.2496 - mae: 0.4337 - val_loss: 0.2431 - val_mae: 0.4349\n",
            "Epoch 3/100\n",
            "70/70 [==============================] - 0s 4ms/step - loss: 0.2381 - mae: 0.4389 - val_loss: 0.2358 - val_mae: 0.4367\n",
            "Epoch 4/100\n",
            "70/70 [==============================] - 0s 5ms/step - loss: 0.2342 - mae: 0.4411 - val_loss: 0.2324 - val_mae: 0.4387\n",
            "Epoch 5/100\n",
            "70/70 [==============================] - 0s 3ms/step - loss: 0.2302 - mae: 0.4428 - val_loss: 0.2290 - val_mae: 0.4503\n",
            "Epoch 6/100\n",
            "70/70 [==============================] - 0s 3ms/step - loss: 0.2281 - mae: 0.4439 - val_loss: 0.2267 - val_mae: 0.4460\n",
            "Epoch 7/100\n",
            "70/70 [==============================] - 0s 5ms/step - loss: 0.2265 - mae: 0.4444 - val_loss: 0.2257 - val_mae: 0.4462\n",
            "Epoch 8/100\n",
            "70/70 [==============================] - 0s 5ms/step - loss: 0.2255 - mae: 0.4444 - val_loss: 0.2252 - val_mae: 0.4435\n",
            "Epoch 9/100\n",
            "70/70 [==============================] - 1s 8ms/step - loss: 0.2251 - mae: 0.4441 - val_loss: 0.2251 - val_mae: 0.4456\n",
            "Epoch 10/100\n",
            "70/70 [==============================] - 1s 9ms/step - loss: 0.2248 - mae: 0.4446 - val_loss: 0.2247 - val_mae: 0.4472\n",
            "Epoch 11/100\n",
            "70/70 [==============================] - 1s 10ms/step - loss: 0.2245 - mae: 0.4445 - val_loss: 0.2244 - val_mae: 0.4427\n",
            "Epoch 12/100\n",
            "70/70 [==============================] - 1s 8ms/step - loss: 0.2244 - mae: 0.4442 - val_loss: 0.2243 - val_mae: 0.4427\n",
            "Epoch 13/100\n",
            "70/70 [==============================] - 1s 7ms/step - loss: 0.2241 - mae: 0.4443 - val_loss: 0.2247 - val_mae: 0.4467\n",
            "Epoch 14/100\n",
            "70/70 [==============================] - 1s 8ms/step - loss: 0.2240 - mae: 0.4444 - val_loss: 0.2242 - val_mae: 0.4438\n",
            "Epoch 15/100\n",
            "70/70 [==============================] - 1s 8ms/step - loss: 0.2239 - mae: 0.4444 - val_loss: 0.2241 - val_mae: 0.4417\n",
            "Epoch 16/100\n",
            "70/70 [==============================] - 1s 9ms/step - loss: 0.2237 - mae: 0.4442 - val_loss: 0.2239 - val_mae: 0.4422\n",
            "Epoch 17/100\n",
            "70/70 [==============================] - 1s 8ms/step - loss: 0.2237 - mae: 0.4444 - val_loss: 0.2240 - val_mae: 0.4485\n",
            "Epoch 18/100\n",
            "70/70 [==============================] - 1s 8ms/step - loss: 0.2236 - mae: 0.4444 - val_loss: 0.2237 - val_mae: 0.4457\n",
            "Epoch 19/100\n",
            "70/70 [==============================] - 1s 10ms/step - loss: 0.2234 - mae: 0.4444 - val_loss: 0.2236 - val_mae: 0.4442\n",
            "Epoch 20/100\n",
            "70/70 [==============================] - 1s 13ms/step - loss: 0.2234 - mae: 0.4444 - val_loss: 0.2235 - val_mae: 0.4436\n",
            "Epoch 21/100\n",
            "70/70 [==============================] - 1s 14ms/step - loss: 0.2234 - mae: 0.4444 - val_loss: 0.2236 - val_mae: 0.4483\n",
            "Epoch 22/100\n",
            "70/70 [==============================] - 1s 14ms/step - loss: 0.2235 - mae: 0.4444 - val_loss: 0.2234 - val_mae: 0.4455\n",
            "Epoch 23/100\n",
            "70/70 [==============================] - 1s 7ms/step - loss: 0.2234 - mae: 0.4445 - val_loss: 0.2235 - val_mae: 0.4480\n",
            "Epoch 24/100\n",
            "70/70 [==============================] - 0s 6ms/step - loss: 0.2232 - mae: 0.4445 - val_loss: 0.2234 - val_mae: 0.4463\n",
            "Epoch 25/100\n",
            "70/70 [==============================] - 1s 10ms/step - loss: 0.2231 - mae: 0.4443 - val_loss: 0.2234 - val_mae: 0.4469\n",
            "Epoch 26/100\n",
            "70/70 [==============================] - 1s 8ms/step - loss: 0.2232 - mae: 0.4444 - val_loss: 0.2233 - val_mae: 0.4463\n",
            "Epoch 27/100\n",
            "70/70 [==============================] - 1s 7ms/step - loss: 0.2231 - mae: 0.4445 - val_loss: 0.2234 - val_mae: 0.4460\n",
            "Epoch 28/100\n",
            "70/70 [==============================] - 0s 6ms/step - loss: 0.2232 - mae: 0.4445 - val_loss: 0.2235 - val_mae: 0.4470\n",
            "Epoch 29/100\n",
            "70/70 [==============================] - 0s 6ms/step - loss: 0.2232 - mae: 0.4443 - val_loss: 0.2233 - val_mae: 0.4436\n",
            "Epoch 30/100\n",
            "70/70 [==============================] - 1s 8ms/step - loss: 0.2230 - mae: 0.4444 - val_loss: 0.2231 - val_mae: 0.4444\n",
            "Epoch 31/100\n",
            "70/70 [==============================] - 1s 8ms/step - loss: 0.2230 - mae: 0.4444 - val_loss: 0.2233 - val_mae: 0.4399\n",
            "Epoch 32/100\n",
            "70/70 [==============================] - 1s 8ms/step - loss: 0.2230 - mae: 0.4444 - val_loss: 0.2232 - val_mae: 0.4439\n",
            "Epoch 33/100\n",
            "70/70 [==============================] - 1s 8ms/step - loss: 0.2229 - mae: 0.4444 - val_loss: 0.2231 - val_mae: 0.4471\n",
            "Epoch 34/100\n",
            "70/70 [==============================] - 1s 8ms/step - loss: 0.2230 - mae: 0.4446 - val_loss: 0.2232 - val_mae: 0.4454\n",
            "Epoch 35/100\n",
            "70/70 [==============================] - 1s 8ms/step - loss: 0.2229 - mae: 0.4444 - val_loss: 0.2232 - val_mae: 0.4425\n",
            "Epoch 36/100\n",
            "70/70 [==============================] - 1s 10ms/step - loss: 0.2228 - mae: 0.4444 - val_loss: 0.2232 - val_mae: 0.4436\n",
            "Epoch 37/100\n",
            "70/70 [==============================] - 1s 8ms/step - loss: 0.2228 - mae: 0.4444 - val_loss: 0.2231 - val_mae: 0.4449\n",
            "Epoch 38/100\n",
            "70/70 [==============================] - 1s 9ms/step - loss: 0.2228 - mae: 0.4446 - val_loss: 0.2230 - val_mae: 0.4438\n",
            "Epoch 39/100\n",
            "70/70 [==============================] - 1s 10ms/step - loss: 0.2228 - mae: 0.4444 - val_loss: 0.2233 - val_mae: 0.4496\n",
            "Epoch 40/100\n",
            "70/70 [==============================] - 1s 8ms/step - loss: 0.2230 - mae: 0.4445 - val_loss: 0.2231 - val_mae: 0.4430\n",
            "Epoch 41/100\n",
            "70/70 [==============================] - 1s 9ms/step - loss: 0.2230 - mae: 0.4444 - val_loss: 0.2233 - val_mae: 0.4392\n",
            "Epoch 42/100\n",
            "70/70 [==============================] - 1s 8ms/step - loss: 0.2229 - mae: 0.4444 - val_loss: 0.2230 - val_mae: 0.4432\n",
            "Epoch 43/100\n",
            "70/70 [==============================] - 1s 10ms/step - loss: 0.2228 - mae: 0.4444 - val_loss: 0.2229 - val_mae: 0.4443\n",
            "Epoch 44/100\n",
            "70/70 [==============================] - 1s 9ms/step - loss: 0.2227 - mae: 0.4445 - val_loss: 0.2229 - val_mae: 0.4466\n",
            "Epoch 45/100\n",
            "70/70 [==============================] - 1s 10ms/step - loss: 0.2228 - mae: 0.4444 - val_loss: 0.2228 - val_mae: 0.4437\n",
            "Epoch 46/100\n",
            "70/70 [==============================] - 1s 10ms/step - loss: 0.2227 - mae: 0.4444 - val_loss: 0.2229 - val_mae: 0.4453\n",
            "Epoch 47/100\n",
            "70/70 [==============================] - 1s 8ms/step - loss: 0.2227 - mae: 0.4444 - val_loss: 0.2229 - val_mae: 0.4436\n",
            "Epoch 48/100\n",
            "70/70 [==============================] - 0s 7ms/step - loss: 0.2227 - mae: 0.4444 - val_loss: 0.2230 - val_mae: 0.4423\n",
            "Epoch 49/100\n",
            "70/70 [==============================] - 1s 8ms/step - loss: 0.2227 - mae: 0.4445 - val_loss: 0.2228 - val_mae: 0.4448\n",
            "Epoch 50/100\n",
            "70/70 [==============================] - 0s 7ms/step - loss: 0.2227 - mae: 0.4444 - val_loss: 0.2230 - val_mae: 0.4495\n",
            "Epoch 51/100\n",
            "70/70 [==============================] - 0s 6ms/step - loss: 0.2226 - mae: 0.4446 - val_loss: 0.2231 - val_mae: 0.4408\n",
            "Epoch 52/100\n",
            "70/70 [==============================] - 1s 7ms/step - loss: 0.2228 - mae: 0.4444 - val_loss: 0.2229 - val_mae: 0.4443\n",
            "Epoch 53/100\n",
            "70/70 [==============================] - 1s 8ms/step - loss: 0.2227 - mae: 0.4444 - val_loss: 0.2228 - val_mae: 0.4453\n",
            "Epoch 54/100\n",
            "70/70 [==============================] - 0s 6ms/step - loss: 0.2226 - mae: 0.4445 - val_loss: 0.2228 - val_mae: 0.4467\n",
            "Epoch 55/100\n",
            "70/70 [==============================] - 1s 7ms/step - loss: 0.2226 - mae: 0.4444 - val_loss: 0.2228 - val_mae: 0.4437\n",
            "Epoch 56/100\n",
            "70/70 [==============================] - 0s 6ms/step - loss: 0.2226 - mae: 0.4445 - val_loss: 0.2228 - val_mae: 0.4422\n",
            "Epoch 57/100\n",
            "70/70 [==============================] - 0s 6ms/step - loss: 0.2226 - mae: 0.4444 - val_loss: 0.2229 - val_mae: 0.4483\n",
            "Epoch 58/100\n",
            "70/70 [==============================] - 0s 6ms/step - loss: 0.2227 - mae: 0.4446 - val_loss: 0.2227 - val_mae: 0.4442\n",
            "Epoch 59/100\n",
            "70/70 [==============================] - 0s 7ms/step - loss: 0.2226 - mae: 0.4444 - val_loss: 0.2229 - val_mae: 0.4473\n",
            "Epoch 60/100\n",
            "70/70 [==============================] - 1s 8ms/step - loss: 0.2226 - mae: 0.4445 - val_loss: 0.2227 - val_mae: 0.4431\n",
            "Epoch 61/100\n",
            "70/70 [==============================] - 1s 10ms/step - loss: 0.2226 - mae: 0.4444 - val_loss: 0.2228 - val_mae: 0.4478\n",
            "Epoch 62/100\n",
            "70/70 [==============================] - 1s 7ms/step - loss: 0.2227 - mae: 0.4445 - val_loss: 0.2231 - val_mae: 0.4474\n",
            "Epoch 63/100\n",
            "70/70 [==============================] - 1s 9ms/step - loss: 0.2228 - mae: 0.4444 - val_loss: 0.2229 - val_mae: 0.4472\n",
            "Epoch 64/100\n",
            "70/70 [==============================] - 1s 8ms/step - loss: 0.2225 - mae: 0.4445 - val_loss: 0.2229 - val_mae: 0.4415\n",
            "Epoch 65/100\n",
            "70/70 [==============================] - 1s 7ms/step - loss: 0.2225 - mae: 0.4444 - val_loss: 0.2227 - val_mae: 0.4463\n",
            "Epoch 66/100\n",
            "70/70 [==============================] - 0s 7ms/step - loss: 0.2226 - mae: 0.4445 - val_loss: 0.2227 - val_mae: 0.4444\n",
            "Epoch 67/100\n",
            "70/70 [==============================] - 1s 10ms/step - loss: 0.2225 - mae: 0.4444 - val_loss: 0.2227 - val_mae: 0.4464\n",
            "Epoch 68/100\n",
            "70/70 [==============================] - 1s 9ms/step - loss: 0.2225 - mae: 0.4445 - val_loss: 0.2227 - val_mae: 0.4444\n",
            "Epoch 69/100\n",
            "70/70 [==============================] - 0s 4ms/step - loss: 0.2225 - mae: 0.4444 - val_loss: 0.2227 - val_mae: 0.4457\n",
            "Epoch 70/100\n",
            "70/70 [==============================] - 0s 3ms/step - loss: 0.2225 - mae: 0.4444 - val_loss: 0.2227 - val_mae: 0.4429\n",
            "Epoch 71/100\n",
            "70/70 [==============================] - 0s 3ms/step - loss: 0.2226 - mae: 0.4444 - val_loss: 0.2227 - val_mae: 0.4439\n",
            "Epoch 72/100\n",
            "70/70 [==============================] - 0s 3ms/step - loss: 0.2226 - mae: 0.4443 - val_loss: 0.2233 - val_mae: 0.4496\n",
            "Epoch 73/100\n",
            "70/70 [==============================] - 0s 3ms/step - loss: 0.2226 - mae: 0.4446 - val_loss: 0.2227 - val_mae: 0.4463\n",
            "Epoch 74/100\n",
            "70/70 [==============================] - 0s 3ms/step - loss: 0.2227 - mae: 0.4444 - val_loss: 0.2229 - val_mae: 0.4422\n",
            "Epoch 75/100\n",
            "70/70 [==============================] - 0s 3ms/step - loss: 0.2226 - mae: 0.4445 - val_loss: 0.2226 - val_mae: 0.4448\n",
            "Epoch 76/100\n",
            "70/70 [==============================] - 0s 4ms/step - loss: 0.2225 - mae: 0.4445 - val_loss: 0.2227 - val_mae: 0.4421\n",
            "Epoch 77/100\n",
            "70/70 [==============================] - 0s 3ms/step - loss: 0.2225 - mae: 0.4444 - val_loss: 0.2229 - val_mae: 0.4397\n",
            "Epoch 78/100\n",
            "70/70 [==============================] - 0s 3ms/step - loss: 0.2225 - mae: 0.4445 - val_loss: 0.2226 - val_mae: 0.4450\n",
            "Epoch 79/100\n",
            "70/70 [==============================] - 0s 3ms/step - loss: 0.2224 - mae: 0.4445 - val_loss: 0.2227 - val_mae: 0.4415\n",
            "Epoch 80/100\n",
            "70/70 [==============================] - 0s 3ms/step - loss: 0.2225 - mae: 0.4443 - val_loss: 0.2226 - val_mae: 0.4466\n",
            "Epoch 81/100\n",
            "70/70 [==============================] - 0s 3ms/step - loss: 0.2225 - mae: 0.4444 - val_loss: 0.2226 - val_mae: 0.4452\n",
            "Epoch 82/100\n",
            "70/70 [==============================] - 0s 4ms/step - loss: 0.2224 - mae: 0.4445 - val_loss: 0.2227 - val_mae: 0.4437\n",
            "Epoch 83/100\n",
            "70/70 [==============================] - 0s 3ms/step - loss: 0.2225 - mae: 0.4444 - val_loss: 0.2226 - val_mae: 0.4455\n",
            "Epoch 84/100\n",
            "70/70 [==============================] - 0s 3ms/step - loss: 0.2225 - mae: 0.4445 - val_loss: 0.2226 - val_mae: 0.4448\n",
            "Epoch 85/100\n",
            "70/70 [==============================] - 0s 3ms/step - loss: 0.2224 - mae: 0.4445 - val_loss: 0.2226 - val_mae: 0.4427\n",
            "Epoch 86/100\n",
            "70/70 [==============================] - 0s 4ms/step - loss: 0.2225 - mae: 0.4445 - val_loss: 0.2226 - val_mae: 0.4447\n",
            "Epoch 87/100\n",
            "70/70 [==============================] - 0s 3ms/step - loss: 0.2224 - mae: 0.4444 - val_loss: 0.2226 - val_mae: 0.4455\n",
            "Epoch 88/100\n",
            "70/70 [==============================] - 0s 3ms/step - loss: 0.2224 - mae: 0.4445 - val_loss: 0.2226 - val_mae: 0.4453\n",
            "Epoch 89/100\n",
            "70/70 [==============================] - 0s 3ms/step - loss: 0.2225 - mae: 0.4445 - val_loss: 0.2226 - val_mae: 0.4445\n",
            "Epoch 90/100\n",
            "70/70 [==============================] - 0s 3ms/step - loss: 0.2225 - mae: 0.4444 - val_loss: 0.2226 - val_mae: 0.4450\n",
            "Epoch 91/100\n",
            "70/70 [==============================] - 0s 3ms/step - loss: 0.2224 - mae: 0.4445 - val_loss: 0.2226 - val_mae: 0.4464\n",
            "Epoch 92/100\n",
            "70/70 [==============================] - 0s 3ms/step - loss: 0.2225 - mae: 0.4445 - val_loss: 0.2227 - val_mae: 0.4401\n",
            "Epoch 93/100\n",
            "70/70 [==============================] - 0s 3ms/step - loss: 0.2225 - mae: 0.4444 - val_loss: 0.2226 - val_mae: 0.4461\n",
            "Epoch 94/100\n",
            "70/70 [==============================] - 0s 3ms/step - loss: 0.2224 - mae: 0.4445 - val_loss: 0.2226 - val_mae: 0.4447\n",
            "Epoch 95/100\n",
            "70/70 [==============================] - 0s 3ms/step - loss: 0.2224 - mae: 0.4444 - val_loss: 0.2226 - val_mae: 0.4426\n",
            "Epoch 96/100\n",
            "70/70 [==============================] - 0s 4ms/step - loss: 0.2225 - mae: 0.4444 - val_loss: 0.2226 - val_mae: 0.4467\n",
            "Epoch 97/100\n",
            "70/70 [==============================] - 0s 3ms/step - loss: 0.2225 - mae: 0.4445 - val_loss: 0.2227 - val_mae: 0.4471\n",
            "Epoch 98/100\n",
            "70/70 [==============================] - 0s 4ms/step - loss: 0.2225 - mae: 0.4444 - val_loss: 0.2226 - val_mae: 0.4441\n",
            "Epoch 99/100\n",
            "70/70 [==============================] - 0s 5ms/step - loss: 0.2224 - mae: 0.4445 - val_loss: 0.2226 - val_mae: 0.4465\n",
            "Epoch 100/100\n",
            "70/70 [==============================] - 1s 9ms/step - loss: 0.2224 - mae: 0.4445 - val_loss: 0.2225 - val_mae: 0.4441\n"
          ]
        }
      ]
    },
    {
      "cell_type": "code",
      "source": [
        "# Create a callback to stop training early after reaching a certain value\n",
        "stop_early = tf.keras.callbacks.EarlyStopping(monitor='val_mae', patience=5)"
      ],
      "metadata": {
        "id": "_UecbkAFFlgU"
      },
      "execution_count": 65,
      "outputs": []
    },
    {
      "cell_type": "code",
      "source": [
        "tuner.search(Xtrain, ytrain, epochs=20, validation_split=0.2, callbacks=[stop_early])"
      ],
      "metadata": {
        "id": "s8psMhZYGtZt"
      },
      "execution_count": 66,
      "outputs": []
    },
    {
      "cell_type": "code",
      "source": [
        "# Get the optimal hyperparameters\n",
        "best_model = tuner.get_best_models()"
      ],
      "metadata": {
        "id": "Ieih6zlXFlkQ"
      },
      "execution_count": 67,
      "outputs": []
    },
    {
      "cell_type": "code",
      "source": [
        "# Build the model with the optimal hyperparameters and train it on the data for 50 epochs\n",
        "model = tuner.hypermodel.build(best_model)\n",
        "history = model.fit(Xtrain, ytrain, epochs=20, validation_split=0.2)\n",
        "\n",
        "val_mae_per_epoch = history.history['val_mae']\n",
        "best_epoch = val_mae_per_epoch.index(max(val_mae_per_epoch)) +1\n",
        "print('Best epoch: %d' % (best_epoch,))"
      ],
      "metadata": {
        "colab": {
          "base_uri": "https://localhost:8080/"
        },
        "id": "6vA9UVmFHbxr",
        "outputId": "4ad1f629-6dfe-47c3-94e7-eb2783992cee"
      },
      "execution_count": 68,
      "outputs": [
        {
          "output_type": "stream",
          "name": "stdout",
          "text": [
            "Epoch 1/100\n",
            "70/70 [==============================] - 1s 5ms/step - loss: 0.3151 - mae: 0.3570 - val_loss: 0.3052 - val_mae: 0.3725\n",
            "Epoch 2/100\n",
            "70/70 [==============================] - 0s 4ms/step - loss: 0.3001 - mae: 0.3703 - val_loss: 0.3026 - val_mae: 0.3641\n",
            "Epoch 3/100\n",
            "70/70 [==============================] - 0s 4ms/step - loss: 0.2985 - mae: 0.3696 - val_loss: 0.3018 - val_mae: 0.3678\n",
            "Epoch 4/100\n",
            "70/70 [==============================] - 0s 4ms/step - loss: 0.2980 - mae: 0.3699 - val_loss: 0.3015 - val_mae: 0.3678\n",
            "Epoch 5/100\n",
            "70/70 [==============================] - 0s 4ms/step - loss: 0.2980 - mae: 0.3698 - val_loss: 0.3013 - val_mae: 0.3645\n",
            "Epoch 6/100\n",
            "70/70 [==============================] - 0s 3ms/step - loss: 0.2977 - mae: 0.3700 - val_loss: 0.3013 - val_mae: 0.3642\n",
            "Epoch 7/100\n",
            "70/70 [==============================] - 0s 3ms/step - loss: 0.2976 - mae: 0.3702 - val_loss: 0.3009 - val_mae: 0.3666\n",
            "Epoch 8/100\n",
            "70/70 [==============================] - 0s 3ms/step - loss: 0.2974 - mae: 0.3698 - val_loss: 0.3014 - val_mae: 0.3702\n",
            "Epoch 9/100\n",
            "70/70 [==============================] - 0s 3ms/step - loss: 0.2973 - mae: 0.3700 - val_loss: 0.3011 - val_mae: 0.3698\n",
            "Epoch 10/100\n",
            "70/70 [==============================] - 0s 4ms/step - loss: 0.2965 - mae: 0.3721 - val_loss: 0.2901 - val_mae: 0.3895\n",
            "Epoch 11/100\n",
            "70/70 [==============================] - 0s 3ms/step - loss: 0.2561 - mae: 0.4243 - val_loss: 0.2305 - val_mae: 0.4346\n",
            "Epoch 12/100\n",
            "70/70 [==============================] - 0s 3ms/step - loss: 0.2273 - mae: 0.4440 - val_loss: 0.2261 - val_mae: 0.4469\n",
            "Epoch 13/100\n",
            "70/70 [==============================] - 0s 3ms/step - loss: 0.2254 - mae: 0.4442 - val_loss: 0.2252 - val_mae: 0.4448\n",
            "Epoch 14/100\n",
            "70/70 [==============================] - 0s 3ms/step - loss: 0.2245 - mae: 0.4446 - val_loss: 0.2248 - val_mae: 0.4422\n",
            "Epoch 15/100\n",
            "70/70 [==============================] - 0s 3ms/step - loss: 0.2245 - mae: 0.4443 - val_loss: 0.2248 - val_mae: 0.4416\n",
            "Epoch 16/100\n",
            "70/70 [==============================] - 0s 4ms/step - loss: 0.2239 - mae: 0.4444 - val_loss: 0.2242 - val_mae: 0.4441\n",
            "Epoch 17/100\n",
            "70/70 [==============================] - 0s 3ms/step - loss: 0.2237 - mae: 0.4445 - val_loss: 0.2239 - val_mae: 0.4444\n",
            "Epoch 18/100\n",
            "70/70 [==============================] - 0s 3ms/step - loss: 0.2236 - mae: 0.4443 - val_loss: 0.2238 - val_mae: 0.4436\n",
            "Epoch 19/100\n",
            "70/70 [==============================] - 0s 3ms/step - loss: 0.2235 - mae: 0.4444 - val_loss: 0.2238 - val_mae: 0.4465\n",
            "Epoch 20/100\n",
            "70/70 [==============================] - 0s 3ms/step - loss: 0.2233 - mae: 0.4442 - val_loss: 0.2236 - val_mae: 0.4449\n",
            "Epoch 21/100\n",
            "70/70 [==============================] - 0s 3ms/step - loss: 0.2232 - mae: 0.4444 - val_loss: 0.2237 - val_mae: 0.4485\n",
            "Epoch 22/100\n",
            "70/70 [==============================] - 0s 3ms/step - loss: 0.2233 - mae: 0.4445 - val_loss: 0.2235 - val_mae: 0.4440\n",
            "Epoch 23/100\n",
            "70/70 [==============================] - 0s 3ms/step - loss: 0.2231 - mae: 0.4443 - val_loss: 0.2234 - val_mae: 0.4436\n",
            "Epoch 24/100\n",
            "70/70 [==============================] - 0s 3ms/step - loss: 0.2231 - mae: 0.4444 - val_loss: 0.2234 - val_mae: 0.4466\n",
            "Epoch 25/100\n",
            "70/70 [==============================] - 0s 3ms/step - loss: 0.2231 - mae: 0.4445 - val_loss: 0.2233 - val_mae: 0.4434\n",
            "Epoch 26/100\n",
            "70/70 [==============================] - 0s 3ms/step - loss: 0.2230 - mae: 0.4444 - val_loss: 0.2232 - val_mae: 0.4436\n",
            "Epoch 27/100\n",
            "70/70 [==============================] - 0s 3ms/step - loss: 0.2230 - mae: 0.4444 - val_loss: 0.2232 - val_mae: 0.4449\n",
            "Epoch 28/100\n",
            "70/70 [==============================] - 0s 3ms/step - loss: 0.2230 - mae: 0.4444 - val_loss: 0.2232 - val_mae: 0.4441\n",
            "Epoch 29/100\n",
            "70/70 [==============================] - 0s 3ms/step - loss: 0.2230 - mae: 0.4445 - val_loss: 0.2233 - val_mae: 0.4434\n",
            "Epoch 30/100\n",
            "70/70 [==============================] - 0s 3ms/step - loss: 0.2229 - mae: 0.4444 - val_loss: 0.2231 - val_mae: 0.4444\n",
            "Epoch 31/100\n",
            "70/70 [==============================] - 0s 3ms/step - loss: 0.2228 - mae: 0.4444 - val_loss: 0.2231 - val_mae: 0.4428\n",
            "Epoch 32/100\n",
            "70/70 [==============================] - 0s 3ms/step - loss: 0.2228 - mae: 0.4444 - val_loss: 0.2230 - val_mae: 0.4443\n",
            "Epoch 33/100\n",
            "70/70 [==============================] - 0s 3ms/step - loss: 0.2228 - mae: 0.4445 - val_loss: 0.2231 - val_mae: 0.4452\n",
            "Epoch 34/100\n",
            "70/70 [==============================] - 0s 3ms/step - loss: 0.2228 - mae: 0.4444 - val_loss: 0.2230 - val_mae: 0.4440\n",
            "Epoch 35/100\n",
            "70/70 [==============================] - 0s 3ms/step - loss: 0.2227 - mae: 0.4445 - val_loss: 0.2233 - val_mae: 0.4400\n",
            "Epoch 36/100\n",
            "70/70 [==============================] - 0s 3ms/step - loss: 0.2228 - mae: 0.4444 - val_loss: 0.2232 - val_mae: 0.4402\n",
            "Epoch 37/100\n",
            "70/70 [==============================] - 0s 3ms/step - loss: 0.2227 - mae: 0.4444 - val_loss: 0.2230 - val_mae: 0.4469\n",
            "Epoch 38/100\n",
            "70/70 [==============================] - 0s 3ms/step - loss: 0.2228 - mae: 0.4444 - val_loss: 0.2231 - val_mae: 0.4477\n",
            "Epoch 39/100\n",
            "70/70 [==============================] - 0s 3ms/step - loss: 0.2228 - mae: 0.4444 - val_loss: 0.2229 - val_mae: 0.4430\n",
            "Epoch 40/100\n",
            "70/70 [==============================] - 0s 3ms/step - loss: 0.2227 - mae: 0.4445 - val_loss: 0.2230 - val_mae: 0.4419\n",
            "Epoch 41/100\n",
            "70/70 [==============================] - 0s 4ms/step - loss: 0.2227 - mae: 0.4444 - val_loss: 0.2229 - val_mae: 0.4428\n",
            "Epoch 42/100\n",
            "70/70 [==============================] - 0s 3ms/step - loss: 0.2227 - mae: 0.4444 - val_loss: 0.2230 - val_mae: 0.4410\n",
            "Epoch 43/100\n",
            "70/70 [==============================] - 0s 3ms/step - loss: 0.2226 - mae: 0.4444 - val_loss: 0.2228 - val_mae: 0.4427\n",
            "Epoch 44/100\n",
            "70/70 [==============================] - 0s 3ms/step - loss: 0.2226 - mae: 0.4444 - val_loss: 0.2229 - val_mae: 0.4434\n",
            "Epoch 45/100\n",
            "70/70 [==============================] - 0s 3ms/step - loss: 0.2226 - mae: 0.4445 - val_loss: 0.2231 - val_mae: 0.4452\n",
            "Epoch 46/100\n",
            "70/70 [==============================] - 0s 3ms/step - loss: 0.2226 - mae: 0.4444 - val_loss: 0.2229 - val_mae: 0.4436\n",
            "Epoch 47/100\n",
            "70/70 [==============================] - 0s 3ms/step - loss: 0.2226 - mae: 0.4444 - val_loss: 0.2230 - val_mae: 0.4477\n",
            "Epoch 48/100\n",
            "70/70 [==============================] - 0s 3ms/step - loss: 0.2227 - mae: 0.4445 - val_loss: 0.2228 - val_mae: 0.4450\n",
            "Epoch 49/100\n",
            "70/70 [==============================] - 0s 3ms/step - loss: 0.2226 - mae: 0.4445 - val_loss: 0.2228 - val_mae: 0.4443\n",
            "Epoch 50/100\n",
            "70/70 [==============================] - 0s 3ms/step - loss: 0.2225 - mae: 0.4444 - val_loss: 0.2229 - val_mae: 0.4426\n",
            "Epoch 51/100\n",
            "70/70 [==============================] - 0s 3ms/step - loss: 0.2226 - mae: 0.4444 - val_loss: 0.2228 - val_mae: 0.4457\n",
            "Epoch 52/100\n",
            "70/70 [==============================] - 0s 3ms/step - loss: 0.2226 - mae: 0.4443 - val_loss: 0.2233 - val_mae: 0.4491\n",
            "Epoch 53/100\n",
            "70/70 [==============================] - 0s 3ms/step - loss: 0.2226 - mae: 0.4445 - val_loss: 0.2228 - val_mae: 0.4435\n",
            "Epoch 54/100\n",
            "70/70 [==============================] - 0s 3ms/step - loss: 0.2226 - mae: 0.4444 - val_loss: 0.2230 - val_mae: 0.4459\n",
            "Epoch 55/100\n",
            "70/70 [==============================] - 0s 4ms/step - loss: 0.2226 - mae: 0.4444 - val_loss: 0.2228 - val_mae: 0.4463\n",
            "Epoch 56/100\n",
            "70/70 [==============================] - 0s 3ms/step - loss: 0.2225 - mae: 0.4445 - val_loss: 0.2227 - val_mae: 0.4438\n",
            "Epoch 57/100\n",
            "70/70 [==============================] - 0s 3ms/step - loss: 0.2225 - mae: 0.4444 - val_loss: 0.2227 - val_mae: 0.4448\n",
            "Epoch 58/100\n",
            "70/70 [==============================] - 0s 3ms/step - loss: 0.2225 - mae: 0.4444 - val_loss: 0.2227 - val_mae: 0.4456\n",
            "Epoch 59/100\n",
            "70/70 [==============================] - 0s 3ms/step - loss: 0.2225 - mae: 0.4444 - val_loss: 0.2227 - val_mae: 0.4446\n",
            "Epoch 60/100\n",
            "70/70 [==============================] - 0s 4ms/step - loss: 0.2225 - mae: 0.4445 - val_loss: 0.2227 - val_mae: 0.4448\n",
            "Epoch 61/100\n",
            "70/70 [==============================] - 0s 3ms/step - loss: 0.2225 - mae: 0.4444 - val_loss: 0.2228 - val_mae: 0.4439\n",
            "Epoch 62/100\n",
            "70/70 [==============================] - 0s 3ms/step - loss: 0.2225 - mae: 0.4444 - val_loss: 0.2227 - val_mae: 0.4451\n",
            "Epoch 63/100\n",
            "70/70 [==============================] - 0s 3ms/step - loss: 0.2225 - mae: 0.4445 - val_loss: 0.2228 - val_mae: 0.4467\n",
            "Epoch 64/100\n",
            "70/70 [==============================] - 0s 3ms/step - loss: 0.2225 - mae: 0.4445 - val_loss: 0.2227 - val_mae: 0.4415\n",
            "Epoch 65/100\n",
            "70/70 [==============================] - 0s 3ms/step - loss: 0.2225 - mae: 0.4444 - val_loss: 0.2228 - val_mae: 0.4471\n",
            "Epoch 66/100\n",
            "70/70 [==============================] - 0s 3ms/step - loss: 0.2225 - mae: 0.4444 - val_loss: 0.2227 - val_mae: 0.4447\n",
            "Epoch 67/100\n",
            "70/70 [==============================] - 0s 3ms/step - loss: 0.2225 - mae: 0.4445 - val_loss: 0.2228 - val_mae: 0.4438\n",
            "Epoch 68/100\n",
            "70/70 [==============================] - 0s 4ms/step - loss: 0.2225 - mae: 0.4443 - val_loss: 0.2228 - val_mae: 0.4479\n",
            "Epoch 69/100\n",
            "70/70 [==============================] - 0s 3ms/step - loss: 0.2225 - mae: 0.4445 - val_loss: 0.2228 - val_mae: 0.4413\n",
            "Epoch 70/100\n",
            "70/70 [==============================] - 0s 3ms/step - loss: 0.2225 - mae: 0.4444 - val_loss: 0.2228 - val_mae: 0.4409\n",
            "Epoch 71/100\n",
            "70/70 [==============================] - 0s 3ms/step - loss: 0.2225 - mae: 0.4444 - val_loss: 0.2227 - val_mae: 0.4448\n",
            "Epoch 72/100\n",
            "70/70 [==============================] - 0s 3ms/step - loss: 0.2225 - mae: 0.4444 - val_loss: 0.2226 - val_mae: 0.4447\n",
            "Epoch 73/100\n",
            "70/70 [==============================] - 0s 3ms/step - loss: 0.2224 - mae: 0.4444 - val_loss: 0.2227 - val_mae: 0.4435\n",
            "Epoch 74/100\n",
            "70/70 [==============================] - 0s 3ms/step - loss: 0.2225 - mae: 0.4444 - val_loss: 0.2226 - val_mae: 0.4444\n",
            "Epoch 75/100\n",
            "70/70 [==============================] - 0s 3ms/step - loss: 0.2224 - mae: 0.4444 - val_loss: 0.2226 - val_mae: 0.4433\n",
            "Epoch 76/100\n",
            "70/70 [==============================] - 0s 3ms/step - loss: 0.2225 - mae: 0.4444 - val_loss: 0.2227 - val_mae: 0.4404\n",
            "Epoch 77/100\n",
            "70/70 [==============================] - 0s 4ms/step - loss: 0.2225 - mae: 0.4444 - val_loss: 0.2227 - val_mae: 0.4458\n",
            "Epoch 78/100\n",
            "70/70 [==============================] - 0s 3ms/step - loss: 0.2225 - mae: 0.4444 - val_loss: 0.2226 - val_mae: 0.4423\n",
            "Epoch 79/100\n",
            "70/70 [==============================] - 0s 3ms/step - loss: 0.2224 - mae: 0.4445 - val_loss: 0.2226 - val_mae: 0.4441\n",
            "Epoch 80/100\n",
            "70/70 [==============================] - 0s 3ms/step - loss: 0.2224 - mae: 0.4444 - val_loss: 0.2226 - val_mae: 0.4447\n",
            "Epoch 81/100\n",
            "70/70 [==============================] - 0s 3ms/step - loss: 0.2224 - mae: 0.4445 - val_loss: 0.2226 - val_mae: 0.4450\n",
            "Epoch 82/100\n",
            "70/70 [==============================] - 0s 3ms/step - loss: 0.2224 - mae: 0.4445 - val_loss: 0.2227 - val_mae: 0.4425\n",
            "Epoch 83/100\n",
            "70/70 [==============================] - 0s 3ms/step - loss: 0.2225 - mae: 0.4444 - val_loss: 0.2226 - val_mae: 0.4449\n",
            "Epoch 84/100\n",
            "70/70 [==============================] - 0s 3ms/step - loss: 0.2224 - mae: 0.4445 - val_loss: 0.2226 - val_mae: 0.4440\n",
            "Epoch 85/100\n",
            "70/70 [==============================] - 0s 3ms/step - loss: 0.2224 - mae: 0.4444 - val_loss: 0.2226 - val_mae: 0.4454\n",
            "Epoch 86/100\n",
            "70/70 [==============================] - 0s 3ms/step - loss: 0.2225 - mae: 0.4444 - val_loss: 0.2226 - val_mae: 0.4450\n",
            "Epoch 87/100\n",
            "70/70 [==============================] - 0s 3ms/step - loss: 0.2224 - mae: 0.4445 - val_loss: 0.2226 - val_mae: 0.4458\n",
            "Epoch 88/100\n",
            "70/70 [==============================] - 0s 3ms/step - loss: 0.2224 - mae: 0.4445 - val_loss: 0.2225 - val_mae: 0.4441\n",
            "Epoch 89/100\n",
            "70/70 [==============================] - 0s 3ms/step - loss: 0.2224 - mae: 0.4444 - val_loss: 0.2226 - val_mae: 0.4435\n",
            "Epoch 90/100\n",
            "70/70 [==============================] - 0s 3ms/step - loss: 0.2224 - mae: 0.4444 - val_loss: 0.2228 - val_mae: 0.4472\n",
            "Epoch 91/100\n",
            "70/70 [==============================] - 0s 3ms/step - loss: 0.2226 - mae: 0.4445 - val_loss: 0.2227 - val_mae: 0.4409\n",
            "Epoch 92/100\n",
            "70/70 [==============================] - 0s 3ms/step - loss: 0.2224 - mae: 0.4444 - val_loss: 0.2225 - val_mae: 0.4446\n",
            "Epoch 93/100\n",
            "70/70 [==============================] - 0s 4ms/step - loss: 0.2224 - mae: 0.4444 - val_loss: 0.2225 - val_mae: 0.4445\n",
            "Epoch 94/100\n",
            "70/70 [==============================] - 0s 3ms/step - loss: 0.2225 - mae: 0.4444 - val_loss: 0.2226 - val_mae: 0.4452\n",
            "Epoch 95/100\n",
            "70/70 [==============================] - 0s 3ms/step - loss: 0.2225 - mae: 0.4444 - val_loss: 0.2227 - val_mae: 0.4489\n",
            "Epoch 96/100\n",
            "70/70 [==============================] - 0s 3ms/step - loss: 0.2225 - mae: 0.4445 - val_loss: 0.2226 - val_mae: 0.4421\n",
            "Epoch 97/100\n",
            "70/70 [==============================] - 0s 3ms/step - loss: 0.2224 - mae: 0.4444 - val_loss: 0.2225 - val_mae: 0.4451\n",
            "Epoch 98/100\n",
            "70/70 [==============================] - 0s 3ms/step - loss: 0.2223 - mae: 0.4445 - val_loss: 0.2225 - val_mae: 0.4443\n",
            "Epoch 99/100\n",
            "70/70 [==============================] - 0s 3ms/step - loss: 0.2224 - mae: 0.4444 - val_loss: 0.2225 - val_mae: 0.4430\n",
            "Epoch 100/100\n",
            "70/70 [==============================] - 0s 3ms/step - loss: 0.2224 - mae: 0.4444 - val_loss: 0.2226 - val_mae: 0.4429\n",
            "Epoch 1/20\n",
            "53/53 [==============================] - 0s 4ms/step - loss: 0.2223 - mae: 0.4444 - val_loss: 0.2224 - val_mae: 0.4456\n",
            "Epoch 2/20\n",
            "53/53 [==============================] - 0s 3ms/step - loss: 0.2224 - mae: 0.4445 - val_loss: 0.2224 - val_mae: 0.4440\n",
            "Epoch 3/20\n",
            "53/53 [==============================] - 0s 3ms/step - loss: 0.2224 - mae: 0.4444 - val_loss: 0.2228 - val_mae: 0.4465\n",
            "Epoch 4/20\n",
            "53/53 [==============================] - 0s 3ms/step - loss: 0.2224 - mae: 0.4444 - val_loss: 0.2223 - val_mae: 0.4444\n",
            "Epoch 5/20\n",
            "53/53 [==============================] - 0s 3ms/step - loss: 0.2224 - mae: 0.4445 - val_loss: 0.2223 - val_mae: 0.4447\n",
            "Epoch 6/20\n",
            "53/53 [==============================] - 0s 4ms/step - loss: 0.2224 - mae: 0.4444 - val_loss: 0.2224 - val_mae: 0.4469\n",
            "Epoch 7/20\n",
            "53/53 [==============================] - 0s 3ms/step - loss: 0.2225 - mae: 0.4444 - val_loss: 0.2224 - val_mae: 0.4464\n",
            "Epoch 8/20\n",
            "53/53 [==============================] - 0s 3ms/step - loss: 0.2224 - mae: 0.4445 - val_loss: 0.2223 - val_mae: 0.4453\n",
            "Epoch 9/20\n",
            "53/53 [==============================] - 0s 3ms/step - loss: 0.2223 - mae: 0.4445 - val_loss: 0.2225 - val_mae: 0.4433\n",
            "Epoch 10/20\n",
            "53/53 [==============================] - 0s 3ms/step - loss: 0.2224 - mae: 0.4444 - val_loss: 0.2223 - val_mae: 0.4440\n",
            "Epoch 11/20\n",
            "53/53 [==============================] - 0s 3ms/step - loss: 0.2224 - mae: 0.4446 - val_loss: 0.2224 - val_mae: 0.4419\n",
            "Epoch 12/20\n",
            "53/53 [==============================] - 0s 3ms/step - loss: 0.2225 - mae: 0.4443 - val_loss: 0.2226 - val_mae: 0.4462\n",
            "Epoch 13/20\n",
            "53/53 [==============================] - 0s 3ms/step - loss: 0.2225 - mae: 0.4446 - val_loss: 0.2224 - val_mae: 0.4445\n",
            "Epoch 14/20\n",
            "53/53 [==============================] - 0s 3ms/step - loss: 0.2223 - mae: 0.4444 - val_loss: 0.2224 - val_mae: 0.4451\n",
            "Epoch 15/20\n",
            "53/53 [==============================] - 0s 3ms/step - loss: 0.2223 - mae: 0.4445 - val_loss: 0.2223 - val_mae: 0.4440\n",
            "Epoch 16/20\n",
            "53/53 [==============================] - 0s 3ms/step - loss: 0.2223 - mae: 0.4444 - val_loss: 0.2223 - val_mae: 0.4454\n",
            "Epoch 17/20\n",
            "53/53 [==============================] - 0s 3ms/step - loss: 0.2223 - mae: 0.4445 - val_loss: 0.2224 - val_mae: 0.4433\n",
            "Epoch 18/20\n",
            "53/53 [==============================] - 0s 3ms/step - loss: 0.2224 - mae: 0.4445 - val_loss: 0.2223 - val_mae: 0.4439\n",
            "Epoch 19/20\n",
            "53/53 [==============================] - 0s 3ms/step - loss: 0.2224 - mae: 0.4445 - val_loss: 0.2224 - val_mae: 0.4426\n",
            "Epoch 20/20\n",
            "53/53 [==============================] - 0s 3ms/step - loss: 0.2224 - mae: 0.4444 - val_loss: 0.2223 - val_mae: 0.4450\n",
            "Best epoch: 6\n"
          ]
        }
      ]
    }
  ]
}